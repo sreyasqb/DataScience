{
 "cells": [
  {
   "cell_type": "code",
   "execution_count": 1,
   "metadata": {},
   "outputs": [],
   "source": [
    "from sympy import Symbol\n",
    "import matplotlib.pyplot as plt"
   ]
  },
  {
   "cell_type": "code",
   "execution_count": 16,
   "metadata": {},
   "outputs": [],
   "source": [
    "x = Symbol('x')\n",
    "def lineEq(x1,y1,x2,y2):\n",
    "    m = (y2-y1)/(x2-x1)\n",
    "    l = []\n",
    "    return y1 + m*(x-x1)"
   ]
  },
  {
   "cell_type": "code",
   "execution_count": null,
   "metadata": {},
   "outputs": [],
   "source": [
    "speedDifference = {\n",
    "    (0,31):{'NL':lineEq(0,1,31,1)},\n",
    "    (31,61):{'NL':lineEq(31,1,61,0),'NM':lineEq(31,0,61,1)},\n",
    "    (61,95):{'NM':lineEq(61,1,95,0),'NS':lineEq(61,0,95,1)},\n",
    "    (95,127):{'NS':lineEq(95,1,127,0),'ZE':lineEq(95,0,127,1)},\n",
    "    (127,159):{'ZE':lineEq(127,1,159,0),'PS':lineEq(127,0,159,1)},\n",
    "    (159,191):{'PS':lineEq(159,1,191,0),'PM':lineEq(159,0,191,1)},\n",
    "    (191,223):{'PM':lineEq(191,1,223,0),'PL':lineEq(191,0,223,1)},\n",
    "    (223,255):{'PL':lineEq(223,1,255,1)}    \n",
    "}\n",
    "acceleration = {k:speedDifference[k] for k in speedDifference}\n",
    "throttleControl = {k:speedDifference[k] for k in speedDifference}\n",
    "\n",
    "# print(speedDifference)\n",
    "# print(speedDifference[(31,61)]['NL'].subs(x,32))"
   ]
  },
  {
   "cell_type": "code",
   "execution_count": 27,
   "metadata": {},
   "outputs": [],
   "source": [
    "sd = 100\n",
    "acc = 70"
   ]
  },
  {
   "cell_type": "code",
   "execution_count": 41,
   "metadata": {},
   "outputs": [],
   "source": [
    "def membership(d,val):\n",
    "    ans = {}\n",
    "    for k in d:\n",
    "        if k[0]<=val<=k[1]:\n",
    "            t = d[k]\n",
    "            for vals in t:\n",
    "                ans[vals] = t[vals].subs(x,val)\n",
    "    return ans"
   ]
  },
  {
   "cell_type": "code",
   "execution_count": 42,
   "metadata": {},
   "outputs": [
    {
     "name": "stdout",
     "output_type": "stream",
     "text": [
      "{'NS': 0.843750000000000, 'ZE': 0.156250000000000}\n",
      "{'NM': 0.735294117647059, 'NS': 0.264705882352941}\n",
      "0.735294117647059\n"
     ]
    }
   ],
   "source": [
    "sDict = membership(speedDifference,sd)\n",
    "aDict = membership(acceleration,acc)\n",
    "print(sDict)\n",
    "print(aDict)"
   ]
  },
  {
   "cell_type": "code",
   "execution_count": 44,
   "metadata": {},
   "outputs": [],
   "source": [
    "def rule(d,s,a,t):\n",
    "    if s in sDict and a in aDict:\n",
    "        d[t] = max(d[t],min(sDict[s],aDict[a]))\n",
    "    return d"
   ]
  },
  {
   "cell_type": "code",
   "execution_count": 47,
   "metadata": {},
   "outputs": [
    {
     "name": "stdout",
     "output_type": "stream",
     "text": [
      "{'PM': 0.156250000000000, 'PS': 0.156250000000000}\n"
     ]
    }
   ],
   "source": [
    "#Rules\n",
    "tDict = {'PL':0,'PM':0,'PS':0,'NS':0,'NL':0}\n",
    "tDict =  rule(tDict,'NL','ZE','PL')\n",
    "tDict =  rule(tDict,'ZE','NL','PL')\n",
    "tDict = rule(tDict,'NM','ZE','PM')\n",
    "tDict =  rule(tDict,'NS','PS','PS')\n",
    "tDict =  rule(tDict,'PS','NS','PS')\n",
    "tDict =  rule(tDict,'PL','ZE','NL')\n",
    "tDict =  rule(tDict,'ZE','NS','PS')\n",
    "tDict =  rule(tDict,'ZE','NM','PM')\n",
    "tDict = {k:tDict[k] for k in tDict if tDict[k]!=0}\n",
    "print(tDict)"
   ]
  },
  {
   "cell_type": "code",
   "execution_count": 71,
   "metadata": {},
   "outputs": [
    {
     "name": "stdout",
     "output_type": "stream",
     "text": [
      "{'PM': {(159, 164.000000000000): 0.03125*x - 4.96875, (164.000000000000, 218.000000000000): 0.156250000000000, (218.000000000000, 223): 6.96875 - 0.03125*x}, 'PS': {(127, 132.000000000000): 0.03125*x - 3.96875, (132.000000000000, 186.000000000000): 0.156250000000000, (186.000000000000, 191): 5.96875 - 0.03125*x}}\n"
     ]
    }
   ],
   "source": [
    "ans = {}\n",
    "for tVal in tDict:\n",
    "    func = {tVal : {}}\n",
    "    r = []\n",
    "    curr = 0\n",
    "    for key in throttleControl:\n",
    "        if tVal in throttleControl[key]:\n",
    "            f = throttleControl[key][tVal]\n",
    "            a,b = f.args\n",
    "            b= b/x\n",
    "            tempX = (tDict[tVal] - a)/b\n",
    "            if curr==0:\n",
    "                func[tVal][(key[0],tempX)] = f \n",
    "                func[tVal]\n",
    "                curr = tempX\n",
    "            else:\n",
    "                func[tVal][(curr,tempX)] = tDict[tVal]\n",
    "                func[tVal][(tempX,key[1])] = f\n",
    "    ans.update(func)         \n",
    "    #s = set(r)\n",
    "    for i in r:\n",
    "        pass\n",
    "    #func.append(tDict[tVal])\n",
    "    #ans[tVal] = func\n",
    "\n",
    "print(ans)"
   ]
  },
  {
   "cell_type": "code",
   "execution_count": 59,
   "metadata": {},
   "outputs": [
    {
     "name": "stdout",
     "output_type": "stream",
     "text": [
      "5\n"
     ]
    }
   ],
   "source": [
    "eq = 5*x-2\n",
    "print(eq.args[1]/x)"
   ]
  }
 ],
 "metadata": {
  "kernelspec": {
   "display_name": "Python 3.9.1 64-bit",
   "language": "python",
   "name": "python3"
  },
  "language_info": {
   "codemirror_mode": {
    "name": "ipython",
    "version": 3
   },
   "file_extension": ".py",
   "mimetype": "text/x-python",
   "name": "python",
   "nbconvert_exporter": "python",
   "pygments_lexer": "ipython3",
   "version": "3.9.1"
  },
  "orig_nbformat": 4,
  "vscode": {
   "interpreter": {
    "hash": "f69bebe59f575518ec8db58d4c416c912077fc36f94d49e7f80e784b9664ea12"
   }
  }
 },
 "nbformat": 4,
 "nbformat_minor": 2
}
